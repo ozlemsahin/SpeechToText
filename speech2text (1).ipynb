{
 "cells": [
  {
   "cell_type": "code",
   "execution_count": 2,
   "id": "c1bedaf8",
   "metadata": {
    "id": "c1bedaf8",
    "outputId": "33b63433-efe4-40a4-85b7-1147c38ba7ab"
   },
   "outputs": [
    {
     "name": "stdout",
     "output_type": "stream",
     "text": [
      "Python 3.9.13\n"
     ]
    }
   ],
   "source": [
    "!python --version"
   ]
  },
  {
   "cell_type": "code",
   "execution_count": 3,
   "id": "06a2c294",
   "metadata": {
    "id": "06a2c294",
    "outputId": "e62128ab-9c2d-45f1-87ee-d471e6a0b1fe"
   },
   "outputs": [
    {
     "name": "stdout",
     "output_type": "stream",
     "text": [
      "Requirement already satisfied: SpeechRecognition in c:\\users\\z004fuuz\\anaconda3\\lib\\site-packages (3.9.0)\n",
      "Requirement already satisfied: requests>=2.26.0 in c:\\users\\z004fuuz\\anaconda3\\lib\\site-packages (from SpeechRecognition) (2.28.1)\n",
      "Requirement already satisfied: certifi>=2017.4.17 in c:\\users\\z004fuuz\\anaconda3\\lib\\site-packages (from requests>=2.26.0->SpeechRecognition) (2022.9.14)\n",
      "Requirement already satisfied: idna<4,>=2.5 in c:\\users\\z004fuuz\\anaconda3\\lib\\site-packages (from requests>=2.26.0->SpeechRecognition) (3.3)\n",
      "Requirement already satisfied: urllib3<1.27,>=1.21.1 in c:\\users\\z004fuuz\\anaconda3\\lib\\site-packages (from requests>=2.26.0->SpeechRecognition) (1.26.11)\n",
      "Requirement already satisfied: charset-normalizer<3,>=2 in c:\\users\\z004fuuz\\anaconda3\\lib\\site-packages (from requests>=2.26.0->SpeechRecognition) (2.0.4)\n",
      "^C\n",
      "Requirement already satisfied: pyaudio in c:\\users\\z004fuuz\\anaconda3\\lib\\site-packages (0.2.13)\n",
      "^C\n"
     ]
    }
   ],
   "source": [
    "!pip3 install SpeechRecognition\n",
    "\n",
    "!pip install pyaudio\n",
    "!pip install pyttsx3"
   ]
  },
  {
   "cell_type": "code",
   "execution_count": 4,
   "id": "cba4e196-b2d4-44ea-bd17-b4d2d4f56352",
   "metadata": {},
   "outputs": [],
   "source": [
    "import pyaudio\n",
    "import wave\n",
    "import speech_recognition as sr\n",
    "import pyttsx3 \n"
   ]
  },
  {
   "cell_type": "code",
   "execution_count": 5,
   "id": "36a731e1",
   "metadata": {
    "id": "36a731e1",
    "outputId": "14610dbe-4423-4e3b-f4a0-8a1558f27e28"
   },
   "outputs": [
    {
     "name": "stdout",
     "output_type": "stream",
     "text": [
      "Requirement already satisfied: pyttsx3 in c:\\users\\z004fuuz\\anaconda3\\lib\\site-packages (2.90)\n",
      "Requirement already satisfied: comtypes in c:\\users\\z004fuuz\\anaconda3\\lib\\site-packages (from pyttsx3) (1.1.10)\n",
      "Requirement already satisfied: pywin32 in c:\\users\\z004fuuz\\anaconda3\\lib\\site-packages (from pyttsx3) (302)\n",
      "Requirement already satisfied: pypiwin32 in c:\\users\\z004fuuz\\anaconda3\\lib\\site-packages (from pyttsx3) (223)\n",
      "result2:\n",
      "[]\n",
      "unknown error occurred\n"
     ]
    },
    {
     "ename": "KeyboardInterrupt",
     "evalue": "",
     "output_type": "error",
     "traceback": [
      "\u001b[1;31m---------------------------------------------------------------------------\u001b[0m",
      "\u001b[1;31mKeyboardInterrupt\u001b[0m                         Traceback (most recent call last)",
      "\u001b[1;32m~\\AppData\\Local\\Temp\\ipykernel_5276\\2359370059.py\u001b[0m in \u001b[0;36m<module>\u001b[1;34m\u001b[0m\n\u001b[0;32m     13\u001b[0m \u001b[1;33m\u001b[0m\u001b[0m\n\u001b[0;32m     14\u001b[0m             \u001b[1;31m#listens for the user's input\u001b[0m\u001b[1;33m\u001b[0m\u001b[1;33m\u001b[0m\u001b[0m\n\u001b[1;32m---> 15\u001b[1;33m             \u001b[0maudio\u001b[0m \u001b[1;33m=\u001b[0m \u001b[0mr\u001b[0m\u001b[1;33m.\u001b[0m\u001b[0mlisten\u001b[0m\u001b[1;33m(\u001b[0m\u001b[0msource\u001b[0m\u001b[1;33m)\u001b[0m\u001b[1;33m\u001b[0m\u001b[1;33m\u001b[0m\u001b[0m\n\u001b[0m\u001b[0;32m     16\u001b[0m \u001b[1;33m\u001b[0m\u001b[0m\n\u001b[0;32m     17\u001b[0m             \u001b[1;31m# Using google to recognize audio\u001b[0m\u001b[1;33m\u001b[0m\u001b[1;33m\u001b[0m\u001b[0m\n",
      "\u001b[1;32m~\\Anaconda3\\lib\\site-packages\\speech_recognition\\__init__.py\u001b[0m in \u001b[0;36mlisten\u001b[1;34m(self, source, timeout, phrase_time_limit, snowboy_configuration)\u001b[0m\n\u001b[0;32m    707\u001b[0m                     \u001b[1;32mbreak\u001b[0m\u001b[1;33m\u001b[0m\u001b[1;33m\u001b[0m\u001b[0m\n\u001b[0;32m    708\u001b[0m \u001b[1;33m\u001b[0m\u001b[0m\n\u001b[1;32m--> 709\u001b[1;33m                 \u001b[0mbuffer\u001b[0m \u001b[1;33m=\u001b[0m \u001b[0msource\u001b[0m\u001b[1;33m.\u001b[0m\u001b[0mstream\u001b[0m\u001b[1;33m.\u001b[0m\u001b[0mread\u001b[0m\u001b[1;33m(\u001b[0m\u001b[0msource\u001b[0m\u001b[1;33m.\u001b[0m\u001b[0mCHUNK\u001b[0m\u001b[1;33m)\u001b[0m\u001b[1;33m\u001b[0m\u001b[1;33m\u001b[0m\u001b[0m\n\u001b[0m\u001b[0;32m    710\u001b[0m                 \u001b[1;32mif\u001b[0m \u001b[0mlen\u001b[0m\u001b[1;33m(\u001b[0m\u001b[0mbuffer\u001b[0m\u001b[1;33m)\u001b[0m \u001b[1;33m==\u001b[0m \u001b[1;36m0\u001b[0m\u001b[1;33m:\u001b[0m \u001b[1;32mbreak\u001b[0m  \u001b[1;31m# reached end of the stream\u001b[0m\u001b[1;33m\u001b[0m\u001b[1;33m\u001b[0m\u001b[0m\n\u001b[0;32m    711\u001b[0m                 \u001b[0mframes\u001b[0m\u001b[1;33m.\u001b[0m\u001b[0mappend\u001b[0m\u001b[1;33m(\u001b[0m\u001b[0mbuffer\u001b[0m\u001b[1;33m)\u001b[0m\u001b[1;33m\u001b[0m\u001b[1;33m\u001b[0m\u001b[0m\n",
      "\u001b[1;32m~\\Anaconda3\\lib\\site-packages\\speech_recognition\\__init__.py\u001b[0m in \u001b[0;36mread\u001b[1;34m(self, size)\u001b[0m\n\u001b[0;32m    209\u001b[0m \u001b[1;33m\u001b[0m\u001b[0m\n\u001b[0;32m    210\u001b[0m         \u001b[1;32mdef\u001b[0m \u001b[0mread\u001b[0m\u001b[1;33m(\u001b[0m\u001b[0mself\u001b[0m\u001b[1;33m,\u001b[0m \u001b[0msize\u001b[0m\u001b[1;33m)\u001b[0m\u001b[1;33m:\u001b[0m\u001b[1;33m\u001b[0m\u001b[1;33m\u001b[0m\u001b[0m\n\u001b[1;32m--> 211\u001b[1;33m             \u001b[1;32mreturn\u001b[0m \u001b[0mself\u001b[0m\u001b[1;33m.\u001b[0m\u001b[0mpyaudio_stream\u001b[0m\u001b[1;33m.\u001b[0m\u001b[0mread\u001b[0m\u001b[1;33m(\u001b[0m\u001b[0msize\u001b[0m\u001b[1;33m,\u001b[0m \u001b[0mexception_on_overflow\u001b[0m\u001b[1;33m=\u001b[0m\u001b[1;32mFalse\u001b[0m\u001b[1;33m)\u001b[0m\u001b[1;33m\u001b[0m\u001b[1;33m\u001b[0m\u001b[0m\n\u001b[0m\u001b[0;32m    212\u001b[0m \u001b[1;33m\u001b[0m\u001b[0m\n\u001b[0;32m    213\u001b[0m         \u001b[1;32mdef\u001b[0m \u001b[0mclose\u001b[0m\u001b[1;33m(\u001b[0m\u001b[0mself\u001b[0m\u001b[1;33m)\u001b[0m\u001b[1;33m:\u001b[0m\u001b[1;33m\u001b[0m\u001b[1;33m\u001b[0m\u001b[0m\n",
      "\u001b[1;32m~\\Anaconda3\\lib\\site-packages\\pyaudio\\__init__.py\u001b[0m in \u001b[0;36mread\u001b[1;34m(self, num_frames, exception_on_overflow)\u001b[0m\n\u001b[0;32m    568\u001b[0m                 raise IOError(\"Not input stream\",\n\u001b[0;32m    569\u001b[0m                               paCanNotReadFromAnOutputOnlyStream)\n\u001b[1;32m--> 570\u001b[1;33m             return pa.read_stream(self._stream, num_frames,\n\u001b[0m\u001b[0;32m    571\u001b[0m                                   exception_on_overflow)\n\u001b[0;32m    572\u001b[0m \u001b[1;33m\u001b[0m\u001b[0m\n",
      "\u001b[1;31mKeyboardInterrupt\u001b[0m: "
     ]
    }
   ],
   "source": [
    "# Initialize the recognizer\n",
    "r = sr.Recognizer()\n",
    "# Define a stream to record audio\n",
    "p = pyaudio.PyAudio()\n",
    "\n",
    "# Loop infinitely for user to speak\n",
    "\n",
    "while(1):   \n",
    "    try:\n",
    "        with sr.Microphone(device_index=0) as source:\n",
    "            # adjust threshold\n",
    "            r.adjust_for_ambient_noise(source, duration=0.2)\n",
    "             \n",
    "            #listens for the user's input\n",
    "            audio = r.listen(source)\n",
    "             \n",
    "            # Using google to recognize audio\n",
    "            MyText = r.recognize_google(audio)\n",
    "            MyText = MyText.lower()\n",
    " \n",
    "            print(\"Did you say \",MyText)\n",
    "            #SpeakText(MyText)\n",
    "            \n",
    "        \n",
    "    except sr.RequestError as e:\n",
    "        print(\"Could not request results; {0}\".format(e))\n",
    "         \n",
    "    except sr.UnknownValueError:\n",
    "        print(\"unknown error occurred\")"
   ]
  },
  {
   "cell_type": "code",
   "execution_count": 6,
   "id": "3d08b059-91cf-49c5-8374-96b39eda220d",
   "metadata": {},
   "outputs": [
    {
     "name": "stdout",
     "output_type": "stream",
     "text": [
      "result2:\n",
      "{   'alternative': [   {   'confidence': 0.95835346,\n",
      "                           'transcript': 'can you please import a style to '\n",
      "                                         'protection area'},\n",
      "                       {   'transcript': 'can you please import a style to '\n",
      "                                         'protection earlier'},\n",
      "                       {   'transcript': 'can you please import a style to '\n",
      "                                         'protection are there'},\n",
      "                       {   'transcript': 'can you please import a style to '\n",
      "                                         'protection Alia'},\n",
      "                       {   'transcript': 'can you please import a style to '\n",
      "                                         'protection Aria'}],\n",
      "    'final': True}\n",
      "Did you say  can you please import a style to protection area\n"
     ]
    }
   ],
   "source": [
    "from os import path\n",
    "\n",
    "# Initialize the WAV recognizer\n",
    "r = sr.Recognizer()\n",
    "# Define a stream to record audio\n",
    "p = pyaudio.PyAudio()\n",
    "\n",
    "\n",
    "# obtain path to \"test.wav\" in the same folder as this script\n",
    "AUDIO_FILE = path.join(path.dirname(path.realpath(\"__file__\")), \"test.wav\")\n",
    "\n",
    "try:\n",
    "    with sr.AudioFile(AUDIO_FILE) as source:\n",
    "        # adjust threshold\n",
    "        r.adjust_for_ambient_noise(source, duration=0.2)\n",
    "             \n",
    "        #listens for the user's input\n",
    "        audio = r.record(source)\n",
    "             \n",
    "        # Using google to recognize audio\n",
    "        MyText = r.recognize_google(audio)\n",
    "        MyText = MyText.lower()\n",
    " \n",
    "        print(\"Did you say \",MyText)\n",
    "        #SpeakText(MyText)\n",
    "            \n",
    "        \n",
    "except sr.RequestError as e:\n",
    "    print(\"Could not request results; {0}\".format(e))\n",
    "         \n",
    "except sr.UnknownValueError:\n",
    "    print(\"unknown error occurred\")"
   ]
  },
  {
   "cell_type": "code",
   "execution_count": 7,
   "id": "bbcdf61c",
   "metadata": {
    "id": "bbcdf61c"
   },
   "outputs": [
    {
     "data": {
      "text/plain": [
       "'\\n# Function to convert text to speech\\ndef SpeakText(text):\\n     \\n    # Initialize the engine\\n    engine = pyttsx3.init()\\n    engine.say(text)\\n    engine.runAndWait()\\n'"
      ]
     },
     "execution_count": 7,
     "metadata": {},
     "output_type": "execute_result"
    }
   ],
   "source": [
    "'''\n",
    "# Function to convert text to speech\n",
    "def SpeakText(text):\n",
    "     \n",
    "    # Initialize the engine\n",
    "    engine = pyttsx3.init()\n",
    "    engine.say(text)\n",
    "    engine.runAndWait()\n",
    "'''     \n",
    "     "
   ]
  },
  {
   "cell_type": "code",
   "execution_count": 8,
   "id": "82dd0c94",
   "metadata": {},
   "outputs": [
    {
     "name": "stdout",
     "output_type": "stream",
     "text": [
      "Requirement already satisfied: pyspellchecker in c:\\users\\z004fuuz\\anaconda3\\lib\\site-packages (0.7.1)\n"
     ]
    }
   ],
   "source": [
    "!pip install pyspellchecker"
   ]
  },
  {
   "cell_type": "code",
   "execution_count": 9,
   "id": "707c8060",
   "metadata": {},
   "outputs": [
    {
     "name": "stderr",
     "output_type": "stream",
     "text": [
      "[nltk_data] Downloading package stopwords to\n",
      "[nltk_data]     C:\\Users\\z004fuuz\\AppData\\Roaming\\nltk_data...\n",
      "[nltk_data]   Package stopwords is already up-to-date!\n",
      "[nltk_data] Downloading package wordnet to\n",
      "[nltk_data]     C:\\Users\\z004fuuz\\AppData\\Roaming\\nltk_data...\n",
      "[nltk_data]   Package wordnet is already up-to-date!\n"
     ]
    }
   ],
   "source": [
    "import nltk\n",
    "nltk.__version__\n",
    "\n",
    "# stopwords include words that doesn't have emotion \n",
    "# so that we can drop this words while making sentiment analysis\n",
    "from nltk.corpus import stopwords\n",
    "#download stopwords module inside nltk data\n",
    "nltk.download(\"stopwords\")\n",
    "nltk.download(\"wordnet\")\n",
    "\n",
    "import re \n",
    "import string\n",
    "from spellchecker import SpellChecker\n",
    "\n",
    "#import autocorrect\n",
    "#from autocorrect import Speller\n"
   ]
  },
  {
   "cell_type": "code",
   "execution_count": 10,
   "id": "54c89984",
   "metadata": {},
   "outputs": [
    {
     "name": "stdout",
     "output_type": "stream",
     "text": [
      "Requirement already satisfied: word2number in c:\\users\\z004fuuz\\anaconda3\\lib\\site-packages (1.1)\n"
     ]
    }
   ],
   "source": [
    "!pip install word2number"
   ]
  },
  {
   "cell_type": "code",
   "execution_count": 87,
   "id": "5a2d9d39",
   "metadata": {},
   "outputs": [],
   "source": [
    "from collections import OrderedDict\n",
    "from word2number import w2n\n",
    "\n",
    "\n",
    "funcList = [\"open\", \"create\", \"save\", \"delete\", \"show\", \"import\",\"activate\"]\n",
    "\n",
    "def parser(transcript):\n",
    "        \n",
    "    indexDict = OrderedDict()\n",
    "    funcEntityDict = OrderedDict()    \n",
    "    wordList = transcript.split()\n",
    "    \n",
    "    #spelling correction \n",
    "    spell = SpellChecker()\n",
    "    for i, word in enumerate(wordList):\n",
    "        if word == \"stl\":\n",
    "            wordList[i] = word\n",
    "        else:\n",
    "            wordList[i] = spell.correction(word)\n",
    "    \n",
    "    #corpus for deleting unnecessary words\n",
    "    stop_words = nltk.corpus.stopwords.words(\"english\")\n",
    "    stop_words_list = [\"please\"]\n",
    "    stop_words.extend(stop_words_list)\n",
    "        \n",
    "    asciiDict = {\"left parenthesis\" : \"(\",\n",
    "                 \"right parenthesis\" : \")\",\n",
    "                 \"comma\" : \",\",\n",
    "                 \"dash\" : \"-\",\n",
    "                 \"semicolon\" : \";\",\n",
    "                 \"left square bracket\" : \"[\",\n",
    "                 \"right square bracket\" : \"]\",\n",
    "                 \"underscore\" : \"_\"}\n",
    "\n",
    "    for i, word in enumerate(wordList):\n",
    "        if (word in funcList):\n",
    "            indexDict[i] = word\n",
    "            \n",
    "    for i, key in enumerate(indexDict.keys()):\n",
    "        if i == 0 and len(indexDict) == 1:\n",
    "            funcEntityDict[indexDict.get(key)] = wordList[key+1:]\n",
    "            break\n",
    "        \n",
    "        elif i == 0 and len(indexDict) != 1:\n",
    "            lastKey = key\n",
    "            pass\n",
    "        \n",
    "        elif (i == len(indexDict.keys())-1):\n",
    "            funcEntityDict[wordList[lastKey]] = wordList[lastKey+1:key]\n",
    "            funcEntityDict[wordList[key]] = wordList[key+1:]\n",
    "            \n",
    "        else:\n",
    "            funcEntityDict[wordList[lastKey]] = wordList[lastKey+1:key]\n",
    "            lastKey = key\n",
    "\n",
    "    for i, (key, value) in enumerate(funcEntityDict.items()):\n",
    "\n",
    "        if ((len(value) == 1) & (value[0] == \"and\")):\n",
    "            \n",
    "            funcEntityDict[key] = list(funcEntityDict.values())[i+1]\n",
    "        \n",
    "        value[:] = (item for item in value if item not in stop_words)\n",
    "    \n",
    "\n",
    "    for key, value in funcEntityDict.items():\n",
    "\n",
    "        print(key, value)\n",
    "        for i, word in enumerate(value):\n",
    "            try:\n",
    "                if (word in asciiDict):\n",
    "                    value[i] = asciiDict.get(word)\n",
    "                else:\n",
    "                    value[i] = str(w2n.word_to_num(word))\n",
    "            except ValueError as e:\n",
    "                pass\n",
    "    \n",
    "        #whitespace on/off\n",
    "        funcEntityDict[key] = \" \".join(value)\n",
    "    \n",
    "    return funcEntityDict\n",
    "\n",
    "def invoker(funcEntityDict):\n",
    "    \n",
    "    for key, value in funcEntityDict.items():\n",
    "\n",
    "        if key == \"open\":\n",
    "            openFunc(value)\n",
    "        elif key == \"create\":\n",
    "            createFunc(value)\n",
    "        elif key == \"save\":\n",
    "            saveFunc(value)\n",
    "        elif key == \"delete\":\n",
    "            deleteFunc(value)\n",
    "        elif key == \"show\":\n",
    "            showFunc(value)\n",
    "        elif key == \"import\":\n",
    "            importFunc(value)\n",
    "        elif key == \"activate\":\n",
    "            checkActivateSetup(key,value)\n",
    "            importFunc(value)\n",
    "        else:\n",
    "            print(\"Function name error\")\n",
    "\n",
    "            \n",
    "def checkActivateSetup(key,value):\n",
    "    \n",
    "    value_list = value.split(\" \")\n",
    "    setup_name = []\n",
    "    mount_station_name = []\n",
    "    index = 1\n",
    "    \n",
    "    #check if command type is given\n",
    "    if value_list[0] == \"setup\":\n",
    "        key_type = key+value_list[0] \n",
    "        #command is right, let's check if names exist\n",
    "        if len(value_list) == 1:\n",
    "            #no name is given so system should be checked and if one mount station and one setup is exists \n",
    "            #then they should be selected \n",
    "            setup_name_str = \"0\"\n",
    "            mount_station_name_str = \"0\"\n",
    "\n",
    "            print(\"no names given\")\n",
    "            \n",
    "        else:\n",
    "            for i,word in enumerate(value_list[1:]):\n",
    "                print(\"first for\", word, index)\n",
    "                if word == \"mount\":\n",
    "                    break\n",
    "                else:\n",
    "                    setup_name.append(word)\n",
    "                    index = index + 1 \n",
    "                    \n",
    "            print(\"index\",index)\n",
    "            for i,word in enumerate(value_list[index:]):\n",
    "                print(\"second for\", word)\n",
    "                mount_station_name.append(word) \n",
    "    else:\n",
    "        print(\"Error: please provide an action name.\")\n",
    "        \n",
    "    if len(setup_name) != 0:\n",
    "        setup_name_str = \"\".join(setup_name)\n",
    "        print(setup_name_str)\n",
    "    else:\n",
    "        setup_name_str = \"0\"\n",
    "    if len(mount_station_name) != 0:\n",
    "        mount_station_name_str = \"\".join(mount_station_name)\n",
    "        mount_station_name_str = mount_station_name_str.replace(\"mountstation\",\"MS\")\n",
    "        print(mount_station_name_str)\n",
    "    else:\n",
    "        mount_station_name_str = \"0\"\n",
    "\n",
    "    return [key_type, setup_name_str, mount_station_name_str]\n",
    "            \n",
    "            \n",
    "def openFunc(entity):\n",
    "    print(\"Open: \", entity)\n",
    "def createFunc(entity):\n",
    "    print(\"Create: \", entity)\n",
    "def saveFunc(entity):\n",
    "    print(\"Save: \", entity)\n",
    "def deleteFunc(entity):\n",
    "    print(\"Delete: \", entity)\n",
    "def showFunc(entity):\n",
    "    print(\"Show: \", entity)\n",
    "def importFunc(entity):\n",
    "    print(\"Import: \", entity)\n",
    "\n"
   ]
  },
  {
   "cell_type": "code",
   "execution_count": 91,
   "id": "66251299-fe78-44f0-b725-7c4eb856e286",
   "metadata": {},
   "outputs": [
    {
     "name": "stdout",
     "output_type": "stream",
     "text": [
      "activate ['setup', 'example', 'underscore', '01']\n",
      "first for example 1\n",
      "first for _ 2\n",
      "first for 1 3\n",
      "index 4\n",
      "example_1\n",
      "Import:  setup example _ 1\n"
     ]
    }
   ],
   "source": [
    "text = \"can you please activate setup example underscore 01\"\n",
    "\n",
    "#delete all punctuations\n",
    "#text_without_punctuation = \"\".join([char for char in text if char not in string.punctuation])\n",
    "\n",
    "#stl correction\n",
    "#print(re.findall(\"a style\", text))\n",
    "#clean_text = re.sub(\"a style\", \"stl\", text)\n",
    "\n",
    "\n",
    "#turns protection into protect, can be a problem\n",
    "#ps = nltk.PorterStemmer()\n",
    "#wn = nltk.WordNetLemmatizer()\n",
    "#lemmatized_text = [ps.stem(word) for word in text_list]\n",
    "#print(lemmatized_text)\n",
    "\n",
    "\n",
    "invoker(parser(text))\n",
    "\n"
   ]
  },
  {
   "cell_type": "code",
   "execution_count": null,
   "id": "02fa57ca",
   "metadata": {},
   "outputs": [],
   "source": []
  },
  {
   "cell_type": "code",
   "execution_count": null,
   "id": "f15beb18",
   "metadata": {},
   "outputs": [],
   "source": []
  }
 ],
 "metadata": {
  "colab": {
   "provenance": []
  },
  "kernelspec": {
   "display_name": "Python 3 (ipykernel)",
   "language": "python",
   "name": "python3"
  },
  "language_info": {
   "codemirror_mode": {
    "name": "ipython",
    "version": 3
   },
   "file_extension": ".py",
   "mimetype": "text/x-python",
   "name": "python",
   "nbconvert_exporter": "python",
   "pygments_lexer": "ipython3",
   "version": "3.9.13"
  }
 },
 "nbformat": 4,
 "nbformat_minor": 5
}
