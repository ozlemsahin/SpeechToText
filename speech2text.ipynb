{
  "cells": [
    {
      "cell_type": "code",
      "execution_count": null,
      "id": "c1bedaf8",
      "metadata": {
        "id": "c1bedaf8",
        "outputId": "33b63433-efe4-40a4-85b7-1147c38ba7ab"
      },
      "outputs": [
        {
          "name": "stdout",
          "output_type": "stream",
          "text": [
            "Python 3.7.16\n"
          ]
        }
      ],
      "source": [
        "!python --version"
      ]
    },
    {
      "cell_type": "code",
      "execution_count": null,
      "id": "06a2c294",
      "metadata": {
        "id": "06a2c294",
        "outputId": "e62128ab-9c2d-45f1-87ee-d471e6a0b1fe"
      },
      "outputs": [
        {
          "name": "stdout",
          "output_type": "stream",
          "text": [
            "Requirement already satisfied: SpeechRecognition in c:\\users\\batiray\\.conda\\envs\\speechtotext\\lib\\site-packages (3.9.0)\n",
            "Requirement already satisfied: requests>=2.26.0 in c:\\users\\batiray\\.conda\\envs\\speechtotext\\lib\\site-packages (from SpeechRecognition) (2.28.1)\n",
            "Requirement already satisfied: idna<4,>=2.5 in c:\\users\\batiray\\.conda\\envs\\speechtotext\\lib\\site-packages (from requests>=2.26.0->SpeechRecognition) (3.4)\n",
            "Requirement already satisfied: urllib3<1.27,>=1.21.1 in c:\\users\\batiray\\.conda\\envs\\speechtotext\\lib\\site-packages (from requests>=2.26.0->SpeechRecognition) (1.26.14)\n",
            "Requirement already satisfied: certifi>=2017.4.17 in c:\\users\\batiray\\.conda\\envs\\speechtotext\\lib\\site-packages (from requests>=2.26.0->SpeechRecognition) (2022.12.7)\n",
            "Requirement already satisfied: charset-normalizer<3,>=2 in c:\\users\\batiray\\.conda\\envs\\speechtotext\\lib\\site-packages (from requests>=2.26.0->SpeechRecognition) (2.0.4)\n",
            "Requirement already satisfied: pyaudio in c:\\users\\batiray\\.conda\\envs\\speechtotext\\lib\\site-packages (0.2.13)\n",
            "Requirement already satisfied: pyttsx3 in c:\\users\\batiray\\.conda\\envs\\speechtotext\\lib\\site-packages (2.90)\n",
            "Requirement already satisfied: comtypes in c:\\users\\batiray\\.conda\\envs\\speechtotext\\lib\\site-packages (from pyttsx3) (1.1.14)\n",
            "Requirement already satisfied: pypiwin32 in c:\\users\\batiray\\.conda\\envs\\speechtotext\\lib\\site-packages (from pyttsx3) (223)\n",
            "Requirement already satisfied: pywin32 in c:\\users\\batiray\\.conda\\envs\\speechtotext\\lib\\site-packages (from pyttsx3) (305.1)\n"
          ]
        }
      ],
      "source": [
        "!pip3 install SpeechRecognition\n",
        "\n",
        "!pip install pyaudio\n",
        "!pip install pyttsx3"
      ]
    },
    {
      "cell_type": "code",
      "execution_count": null,
      "id": "36a731e1",
      "metadata": {
        "id": "36a731e1",
        "outputId": "14610dbe-4423-4e3b-f4a0-8a1558f27e28"
      },
      "outputs": [
        {
          "name": "stdout",
          "output_type": "stream",
          "text": [
            "result2:\n",
            "{   'alternative': [   {   'confidence': 0.87670332,\n",
            "                           'transcript': 'I love birthday'},\n",
            "                       {'transcript': 'I love but today'},\n",
            "                       {'transcript': 'I love about today'},\n",
            "                       {'transcript': \"I love what's right\"},\n",
            "                       {'transcript': 'I love butterfly'}],\n",
            "    'final': True}\n",
            "I love birthday\n",
            "result2:\n",
            "[]\n",
            "unknown error occurred\n",
            "result2:\n",
            "{   'alternative': [   {   'confidence': 0.91965884,\n",
            "                           'transcript': 'did you get Minnesota'},\n",
            "                       {'transcript': 'did you give Minnesota'},\n",
            "                       {'transcript': 'did you give me a soda'},\n",
            "                       {'transcript': 'did you give me Minnesota'},\n",
            "                       {'transcript': 'did you get in Minnesota'}],\n",
            "    'final': True}\n",
            "result2:\n",
            "[]\n",
            "unknown error occurred\n",
            "result2:\n",
            "{   'alternative': [   {   'confidence': 0.97219545,\n",
            "                           'transcript': 'transcription'},\n",
            "                       {'transcript': 'transcription Google'},\n",
            "                       {'transcript': 'transcription to Google'},\n",
            "                       {'transcript': 'transcriptionist'},\n",
            "                       {'transcript': 'transcriptome'}],\n",
            "    'final': True}\n",
            "result2:\n",
            "[]\n",
            "unknown error occurred\n",
            "result2:\n",
            "[]\n",
            "unknown error occurred\n",
            "result2:\n",
            "{   'alternative': [   {   'confidence': 0.82647288,\n",
            "                           'transcript': 'confidence level you Google'},\n",
            "                       {'transcript': 'confidence level'},\n",
            "                       {'transcript': 'confidence level you'},\n",
            "                       {'transcript': 'confidence level dealership'},\n",
            "                       {'transcript': 'confidence level sure'}],\n",
            "    'final': True}\n",
            "result2:\n",
            "{   'alternative': [   {   'confidence': 0.90298367,\n",
            "                           'transcript': 'can you sitcom'},\n",
            "                       {'transcript': 'can you set confidence'},\n",
            "                       {'transcript': 'can you sit confidence'},\n",
            "                       {'transcript': 'can you sitcoms'},\n",
            "                       {'transcript': 'can you sitcom now'}],\n",
            "    'final': True}\n"
          ]
        },
        {
          "ename": "KeyboardInterrupt",
          "evalue": "",
          "output_type": "error",
          "traceback": [
            "\u001b[1;31m---------------------------------------------------------------------------\u001b[0m",
            "\u001b[1;31mKeyboardInterrupt\u001b[0m                         Traceback (most recent call last)",
            "\u001b[1;32m~\\AppData\\Local\\Temp\\ipykernel_20044\\3245026148.py\u001b[0m in \u001b[0;36m<module>\u001b[1;34m\u001b[0m\n\u001b[0;32m     48\u001b[0m \u001b[1;33m\u001b[0m\u001b[0m\n\u001b[0;32m     49\u001b[0m             \u001b[1;31m#listens for the user's input\u001b[0m\u001b[1;33m\u001b[0m\u001b[1;33m\u001b[0m\u001b[1;33m\u001b[0m\u001b[0m\n\u001b[1;32m---> 50\u001b[1;33m             \u001b[0maudio2\u001b[0m \u001b[1;33m=\u001b[0m \u001b[0mr\u001b[0m\u001b[1;33m.\u001b[0m\u001b[0mlisten\u001b[0m\u001b[1;33m(\u001b[0m\u001b[0msource2\u001b[0m\u001b[1;33m)\u001b[0m\u001b[1;33m\u001b[0m\u001b[1;33m\u001b[0m\u001b[0m\n\u001b[0m\u001b[0;32m     51\u001b[0m \u001b[1;33m\u001b[0m\u001b[0m\n\u001b[0;32m     52\u001b[0m             \u001b[1;31m# Using google to recognize audio\u001b[0m\u001b[1;33m\u001b[0m\u001b[1;33m\u001b[0m\u001b[1;33m\u001b[0m\u001b[0m\n",
            "\u001b[1;32m~\\.conda\\envs\\speechToText\\lib\\site-packages\\speech_recognition\\__init__.py\u001b[0m in \u001b[0;36mlisten\u001b[1;34m(self, source, timeout, phrase_time_limit, snowboy_configuration)\u001b[0m\n\u001b[0;32m    707\u001b[0m                     \u001b[1;32mbreak\u001b[0m\u001b[1;33m\u001b[0m\u001b[1;33m\u001b[0m\u001b[0m\n\u001b[0;32m    708\u001b[0m \u001b[1;33m\u001b[0m\u001b[0m\n\u001b[1;32m--> 709\u001b[1;33m                 \u001b[0mbuffer\u001b[0m \u001b[1;33m=\u001b[0m \u001b[0msource\u001b[0m\u001b[1;33m.\u001b[0m\u001b[0mstream\u001b[0m\u001b[1;33m.\u001b[0m\u001b[0mread\u001b[0m\u001b[1;33m(\u001b[0m\u001b[0msource\u001b[0m\u001b[1;33m.\u001b[0m\u001b[0mCHUNK\u001b[0m\u001b[1;33m)\u001b[0m\u001b[1;33m\u001b[0m\u001b[1;33m\u001b[0m\u001b[0m\n\u001b[0m\u001b[0;32m    710\u001b[0m                 \u001b[1;32mif\u001b[0m \u001b[0mlen\u001b[0m\u001b[1;33m(\u001b[0m\u001b[0mbuffer\u001b[0m\u001b[1;33m)\u001b[0m \u001b[1;33m==\u001b[0m \u001b[1;36m0\u001b[0m\u001b[1;33m:\u001b[0m \u001b[1;32mbreak\u001b[0m  \u001b[1;31m# reached end of the stream\u001b[0m\u001b[1;33m\u001b[0m\u001b[1;33m\u001b[0m\u001b[0m\n\u001b[0;32m    711\u001b[0m                 \u001b[0mframes\u001b[0m\u001b[1;33m.\u001b[0m\u001b[0mappend\u001b[0m\u001b[1;33m(\u001b[0m\u001b[0mbuffer\u001b[0m\u001b[1;33m)\u001b[0m\u001b[1;33m\u001b[0m\u001b[1;33m\u001b[0m\u001b[0m\n",
            "\u001b[1;32m~\\.conda\\envs\\speechToText\\lib\\site-packages\\speech_recognition\\__init__.py\u001b[0m in \u001b[0;36mread\u001b[1;34m(self, size)\u001b[0m\n\u001b[0;32m    209\u001b[0m \u001b[1;33m\u001b[0m\u001b[0m\n\u001b[0;32m    210\u001b[0m         \u001b[1;32mdef\u001b[0m \u001b[0mread\u001b[0m\u001b[1;33m(\u001b[0m\u001b[0mself\u001b[0m\u001b[1;33m,\u001b[0m \u001b[0msize\u001b[0m\u001b[1;33m)\u001b[0m\u001b[1;33m:\u001b[0m\u001b[1;33m\u001b[0m\u001b[1;33m\u001b[0m\u001b[0m\n\u001b[1;32m--> 211\u001b[1;33m             \u001b[1;32mreturn\u001b[0m \u001b[0mself\u001b[0m\u001b[1;33m.\u001b[0m\u001b[0mpyaudio_stream\u001b[0m\u001b[1;33m.\u001b[0m\u001b[0mread\u001b[0m\u001b[1;33m(\u001b[0m\u001b[0msize\u001b[0m\u001b[1;33m,\u001b[0m \u001b[0mexception_on_overflow\u001b[0m\u001b[1;33m=\u001b[0m\u001b[1;32mFalse\u001b[0m\u001b[1;33m)\u001b[0m\u001b[1;33m\u001b[0m\u001b[1;33m\u001b[0m\u001b[0m\n\u001b[0m\u001b[0;32m    212\u001b[0m \u001b[1;33m\u001b[0m\u001b[0m\n\u001b[0;32m    213\u001b[0m         \u001b[1;32mdef\u001b[0m \u001b[0mclose\u001b[0m\u001b[1;33m(\u001b[0m\u001b[0mself\u001b[0m\u001b[1;33m)\u001b[0m\u001b[1;33m:\u001b[0m\u001b[1;33m\u001b[0m\u001b[1;33m\u001b[0m\u001b[0m\n",
            "\u001b[1;32m~\\.conda\\envs\\speechToText\\lib\\site-packages\\pyaudio\\__init__.py\u001b[0m in \u001b[0;36mread\u001b[1;34m(self, num_frames, exception_on_overflow)\u001b[0m\n\u001b[0;32m    569\u001b[0m                               paCanNotReadFromAnOutputOnlyStream)\n\u001b[0;32m    570\u001b[0m             return pa.read_stream(self._stream, num_frames,\n\u001b[1;32m--> 571\u001b[1;33m                                   exception_on_overflow)\n\u001b[0m\u001b[0;32m    572\u001b[0m \u001b[1;33m\u001b[0m\u001b[0m\n\u001b[0;32m    573\u001b[0m         \u001b[1;32mdef\u001b[0m \u001b[0mget_read_available\u001b[0m\u001b[1;33m(\u001b[0m\u001b[0mself\u001b[0m\u001b[1;33m)\u001b[0m\u001b[1;33m:\u001b[0m\u001b[1;33m\u001b[0m\u001b[1;33m\u001b[0m\u001b[0m\n",
            "\u001b[1;31mKeyboardInterrupt\u001b[0m: "
          ]
        }
      ],
      "source": [
        "# Python program to translate\n",
        "# speech to text and text to speech\n",
        "\n",
        "\n",
        "\n",
        "import speech_recognition as sr\n",
        "import pyttsx3\n",
        "\n",
        "filename = r\"C:\\Users\\batiray\\Documents\\Sound recordings\\Recording (3).wav\"\n",
        "\n",
        "# Initialize the recognizer\n",
        "r = sr.Recognizer()\n",
        "\n",
        "# open the file\n",
        "with sr.AudioFile(filename) as source:\n",
        "    # listen for the data (load audio to memory)\n",
        "    audio_data = r.record(source)\n",
        "    # recognize (convert from speech to text)\n",
        "    text = r.recognize_google(audio_data)\n",
        "    print(text)\n",
        "\n",
        "# Function to convert text to\n",
        "# speech\n",
        "def SpeakText(command):\n",
        "     \n",
        "    # Initialize the engine\n",
        "    engine = pyttsx3.init()\n",
        "    engine.say(command)\n",
        "    engine.runAndWait()\n",
        "     \n",
        "     \n",
        "# Loop infinitely for user to\n",
        "# speak\n",
        " \n",
        "while(1):   \n",
        "     \n",
        "    # Exception handling to handle\n",
        "    # exceptions at the runtime\n",
        "    try:\n",
        "         \n",
        "        # use the microphone as source for input.\n",
        "        with sr.Microphone() as source2:\n",
        "             \n",
        "            # wait for a second to let the recognizer\n",
        "            # adjust the energy threshold based on\n",
        "            # the surrounding noise level\n",
        "            r.adjust_for_ambient_noise(source2, duration=0.2)\n",
        "             \n",
        "            #listens for the user's input\n",
        "            audio2 = r.listen(source2)\n",
        "             \n",
        "            # Using google to recognize audio\n",
        "            MyText = r.recognize_google(audio2)\n",
        "            MyText = MyText.lower()\n",
        " \n",
        "            #print(\"Did you say \",MyText)\n",
        "            #SpeakText(MyText)\n",
        "             \n",
        "    except sr.RequestError as e:\n",
        "        print(\"Could not request results; {0}\".format(e))\n",
        "         \n",
        "    except sr.UnknownValueError:\n",
        "        print(\"unknown error occurred\")"
      ]
    },
    {
      "cell_type": "code",
      "execution_count": null,
      "id": "bbcdf61c",
      "metadata": {
        "id": "bbcdf61c"
      },
      "outputs": [],
      "source": []
    }
  ],
  "metadata": {
    "kernelspec": {
      "display_name": "Python 3 (ipykernel)",
      "language": "python",
      "name": "python3"
    },
    "language_info": {
      "codemirror_mode": {
        "name": "ipython",
        "version": 3
      },
      "file_extension": ".py",
      "mimetype": "text/x-python",
      "name": "python",
      "nbconvert_exporter": "python",
      "pygments_lexer": "ipython3",
      "version": "3.7.16"
    },
    "colab": {
      "provenance": []
    }
  },
  "nbformat": 4,
  "nbformat_minor": 5
}